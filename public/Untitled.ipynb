{
 "cells": [
  {
   "cell_type": "code",
   "execution_count": 1,
   "id": "e36d058c",
   "metadata": {},
   "outputs": [],
   "source": [
    "import pandas as pd\n",
    "import numpy as np\n",
    "import datetime as dt"
   ]
  },
  {
   "cell_type": "code",
   "execution_count": 5,
   "id": "0e8eee39",
   "metadata": {},
   "outputs": [],
   "source": [
    "data = pd.read_csv(\"./legislation.csv\")\n",
    "data = data.fillna(False)\n",
    "dem = data[data[\"Party\"] == \"Democrat\"]\n",
    "rep = data[data[\"Party\"] == \"Republican\"]\n",
    "assembly = data[data[\"House\"] == \"Assembly\"]\n",
    "senate = data[data[\"House\"] == \"Senate\"]\n",
    "statewide = data[data[\"Statewide RTC\"] == True]\n",
    "winter = data[data[\"Winter Eviction Moratorium\"] == True]\n",
    "defend = data[data[\"DEFEND RTC\"] == True]"
   ]
  },
  {
   "cell_type": "code",
   "execution_count": 7,
   "id": "f7d66902",
   "metadata": {},
   "outputs": [
    {
     "data": {
      "text/plain": [
       "150"
      ]
     },
     "execution_count": 7,
     "metadata": {},
     "output_type": "execute_result"
    }
   ],
   "source": [
    "assembly.shape[0]"
   ]
  },
  {
   "cell_type": "code",
   "execution_count": 8,
   "id": "1eb6746c",
   "metadata": {},
   "outputs": [
    {
     "data": {
      "text/plain": [
       "63"
      ]
     },
     "execution_count": 8,
     "metadata": {},
     "output_type": "execute_result"
    }
   ],
   "source": [
    "senate.shape[0]"
   ]
  },
  {
   "cell_type": "code",
   "execution_count": null,
   "id": "05caf70b",
   "metadata": {},
   "outputs": [],
   "source": [
    "##Statewide RTC"
   ]
  },
  {
   "cell_type": "code",
   "execution_count": 30,
   "id": "327ce8bf",
   "metadata": {},
   "outputs": [
    {
     "data": {
      "text/plain": [
       "61"
      ]
     },
     "execution_count": 30,
     "metadata": {},
     "output_type": "execute_result"
    }
   ],
   "source": [
    "assembly_statewide = assembly[assembly[\"Statewide RTC\"] == True]\n",
    "assembly_statewide.shape[0]"
   ]
  },
  {
   "cell_type": "code",
   "execution_count": 27,
   "id": "46b7b587",
   "metadata": {},
   "outputs": [
    {
     "data": {
      "text/plain": [
       "59"
      ]
     },
     "execution_count": 27,
     "metadata": {},
     "output_type": "execute_result"
    }
   ],
   "source": [
    "assembly_statewide_demo = assembly_statewide[assembly_statewide[\"Party\"] == \"Democrat\"]\n",
    "assembly_statewide_demo.shape[0]"
   ]
  },
  {
   "cell_type": "code",
   "execution_count": 28,
   "id": "d126e6d0",
   "metadata": {},
   "outputs": [
    {
     "data": {
      "text/plain": [
       "2"
      ]
     },
     "execution_count": 28,
     "metadata": {},
     "output_type": "execute_result"
    }
   ],
   "source": [
    "assembly_statewide_rep = assembly_statewide[assembly_statewide[\"Party\"] == \"Republican\"]\n",
    "assembly_statewide_rep.shape[0]"
   ]
  },
  {
   "cell_type": "code",
   "execution_count": 33,
   "id": "04e145ea",
   "metadata": {},
   "outputs": [
    {
     "data": {
      "text/plain": [
       "28"
      ]
     },
     "execution_count": 33,
     "metadata": {},
     "output_type": "execute_result"
    }
   ],
   "source": [
    "senate_statewide = senate[senate[\"Statewide RTC\"] == True]\n",
    "senate_statewide.shape[0]"
   ]
  },
  {
   "cell_type": "code",
   "execution_count": 34,
   "id": "a4c8d340",
   "metadata": {},
   "outputs": [
    {
     "data": {
      "text/plain": [
       "28"
      ]
     },
     "execution_count": 34,
     "metadata": {},
     "output_type": "execute_result"
    }
   ],
   "source": [
    "senate_statewide_demo = senate_statewide[senate_statewide[\"Party\"] == \"Democrat\"]\n",
    "senate_statewide_demo.shape[0]"
   ]
  },
  {
   "cell_type": "code",
   "execution_count": 35,
   "id": "ac2f305e",
   "metadata": {},
   "outputs": [
    {
     "data": {
      "text/plain": [
       "0"
      ]
     },
     "execution_count": 35,
     "metadata": {},
     "output_type": "execute_result"
    }
   ],
   "source": [
    "senate_statewide_rep = senate_statewide[senate_statewide[\"Party\"] == \"Republican\"]\n",
    "senate_statewide_rep.shape[0]"
   ]
  },
  {
   "cell_type": "code",
   "execution_count": null,
   "id": "c3181025",
   "metadata": {},
   "outputs": [],
   "source": [
    "## winter"
   ]
  },
  {
   "cell_type": "code",
   "execution_count": 37,
   "id": "fc251151",
   "metadata": {},
   "outputs": [
    {
     "data": {
      "text/plain": [
       "10"
      ]
     },
     "execution_count": 37,
     "metadata": {},
     "output_type": "execute_result"
    }
   ],
   "source": [
    "assembly_winter = assembly[assembly[\"Winter Eviction Moratorium\"] == True]\n",
    "assembly_winter.shape[0]"
   ]
  },
  {
   "cell_type": "code",
   "execution_count": 36,
   "id": "03778333",
   "metadata": {},
   "outputs": [
    {
     "data": {
      "text/plain": [
       "10"
      ]
     },
     "execution_count": 36,
     "metadata": {},
     "output_type": "execute_result"
    }
   ],
   "source": [
    "assembly_winter_demo = assembly_winter[assembly_winter[\"Party\"] == \"Democrat\"]\n",
    "assembly_winter_demo.shape[0]"
   ]
  },
  {
   "cell_type": "code",
   "execution_count": 38,
   "id": "b32040b1",
   "metadata": {},
   "outputs": [
    {
     "data": {
      "text/plain": [
       "4"
      ]
     },
     "execution_count": 38,
     "metadata": {},
     "output_type": "execute_result"
    }
   ],
   "source": [
    "senate_winter = senate[senate[\"Winter Eviction Moratorium\"] == True]\n",
    "senate_winter.shape[0]"
   ]
  },
  {
   "cell_type": "code",
   "execution_count": 39,
   "id": "2f966fb0",
   "metadata": {},
   "outputs": [
    {
     "data": {
      "text/plain": [
       "4"
      ]
     },
     "execution_count": 39,
     "metadata": {},
     "output_type": "execute_result"
    }
   ],
   "source": [
    "senate_winter_demo = senate_winter[senate_winter[\"Party\"] == \"Democrat\"]\n",
    "senate_winter_demo.shape[0]"
   ]
  },
  {
   "cell_type": "code",
   "execution_count": 24,
   "id": "dc0c2353",
   "metadata": {},
   "outputs": [],
   "source": [
    "#defend"
   ]
  },
  {
   "cell_type": "code",
   "execution_count": 40,
   "id": "8a215ec2",
   "metadata": {},
   "outputs": [
    {
     "data": {
      "text/plain": [
       "3"
      ]
     },
     "execution_count": 40,
     "metadata": {},
     "output_type": "execute_result"
    }
   ],
   "source": [
    "assembly_defend = assembly[assembly[\"DEFEND RTC\"] == True]\n",
    "assembly_defend.shape[0]"
   ]
  },
  {
   "cell_type": "code",
   "execution_count": 41,
   "id": "897fbafa",
   "metadata": {},
   "outputs": [
    {
     "data": {
      "text/plain": [
       "3"
      ]
     },
     "execution_count": 41,
     "metadata": {},
     "output_type": "execute_result"
    }
   ],
   "source": [
    "assembly_defend_demo = assembly_defend[assembly_defend[\"Party\"] == \"Democrat\"]\n",
    "assembly_defend_demo.shape[0]"
   ]
  },
  {
   "cell_type": "code",
   "execution_count": 42,
   "id": "8bbbd40d",
   "metadata": {},
   "outputs": [
    {
     "data": {
      "text/plain": [
       "0"
      ]
     },
     "execution_count": 42,
     "metadata": {},
     "output_type": "execute_result"
    }
   ],
   "source": [
    "assembly_defend_rep = assembly_defend[assembly_defend[\"Party\"] == \"Republican\"]\n",
    "assembly_defend_rep.shape[0]"
   ]
  },
  {
   "cell_type": "code",
   "execution_count": 43,
   "id": "a632f5ee",
   "metadata": {},
   "outputs": [
    {
     "data": {
      "text/plain": [
       "2"
      ]
     },
     "execution_count": 43,
     "metadata": {},
     "output_type": "execute_result"
    }
   ],
   "source": [
    "senate_defend = senate[senate[\"DEFEND RTC\"] == True]\n",
    "senate_defend.shape[0]"
   ]
  },
  {
   "cell_type": "code",
   "execution_count": 44,
   "id": "6cbc24ec",
   "metadata": {},
   "outputs": [
    {
     "data": {
      "text/plain": [
       "2"
      ]
     },
     "execution_count": 44,
     "metadata": {},
     "output_type": "execute_result"
    }
   ],
   "source": [
    "senate_defend_demo = senate_defend[senate_defend[\"Party\"] == \"Democrat\"]\n",
    "senate_defend_demo.shape[0]"
   ]
  },
  {
   "cell_type": "code",
   "execution_count": 46,
   "id": "2da26978",
   "metadata": {},
   "outputs": [
    {
     "data": {
      "text/plain": [
       "0.4066666666666667"
      ]
     },
     "execution_count": 46,
     "metadata": {},
     "output_type": "execute_result"
    }
   ],
   "source": [
    "61/150"
   ]
  },
  {
   "cell_type": "code",
   "execution_count": 47,
   "id": "cc285fdd",
   "metadata": {},
   "outputs": [
    {
     "data": {
      "text/plain": [
       "0.4444444444444444"
      ]
     },
     "execution_count": 47,
     "metadata": {},
     "output_type": "execute_result"
    }
   ],
   "source": [
    "28/63"
   ]
  }
 ],
 "metadata": {
  "kernelspec": {
   "display_name": "Python 3 (ipykernel)",
   "language": "python",
   "name": "python3"
  },
  "language_info": {
   "codemirror_mode": {
    "name": "ipython",
    "version": 3
   },
   "file_extension": ".py",
   "mimetype": "text/x-python",
   "name": "python",
   "nbconvert_exporter": "python",
   "pygments_lexer": "ipython3",
   "version": "3.9.13"
  }
 },
 "nbformat": 4,
 "nbformat_minor": 5
}
